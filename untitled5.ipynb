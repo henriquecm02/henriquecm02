{
  "nbformat": 4,
  "nbformat_minor": 0,
  "metadata": {
    "colab": {
      "provenance": [],
      "authorship_tag": "ABX9TyM/L03k2hVoSVxXTP/4zAmJ",
      "include_colab_link": true
    },
    "kernelspec": {
      "name": "python3",
      "display_name": "Python 3"
    },
    "language_info": {
      "name": "python"
    }
  },
  "cells": [
    {
      "cell_type": "markdown",
      "metadata": {
        "id": "view-in-github",
        "colab_type": "text"
      },
      "source": [
        "<a href=\"https://colab.research.google.com/github/henriquecm02/henriquecm02/blob/main/untitled5.ipynb\" target=\"_parent\"><img src=\"https://colab.research.google.com/assets/colab-badge.svg\" alt=\"Open In Colab\"/></a>"
      ]
    },
    {
      "cell_type": "code",
      "source": [
        "#Configurações iniciais\n",
        "import google.generativeai as genai\n",
        "\n",
        "GOOGLE_API_KEY=\"INSIRA_SUA_API_KEY\"\n",
        "genai.configure(api_key=GOOGLE_API_KEY)"
      ],
      "metadata": {
        "id": "m0FN66aHLuef"
      },
      "execution_count": null,
      "outputs": []
    },
    {
      "cell_type": "code",
      "source": [
        "#Listando os modelos disponíveis\n",
        "for m in genai.list_models():\n",
        "  if 'generateContent' in m.supported_generation_methods:\n",
        "    print(m.name)"
      ],
      "metadata": {
        "id": "sFWyBwM7Lw9L"
      },
      "execution_count": null,
      "outputs": []
    },
    {
      "cell_type": "code",
      "source": [
        "generation_config = {\n",
        "  \"candidate_count\": 1,\n",
        "  \"temperature\": 0.5,\n",
        "}"
      ],
      "metadata": {
        "id": "TP517jHuMcYp"
      },
      "execution_count": null,
      "outputs": []
    },
    {
      "cell_type": "code",
      "source": [
        "\"\"\"safety_settings={\n",
        "    'HATE': 'BLOCK_NONE',\n",
        "    'HARASSMENT': 'BLOCK_NONE',\n",
        "    'SEXUAL' : 'BLOCK_NONE',\n",
        "    'DANGEROUS' : 'BLOCK_NONE'\n",
        "    }\"\"\""
      ],
      "metadata": {
        "id": "Vh7NnB-1MiJd"
      },
      "execution_count": null,
      "outputs": []
    },
    {
      "cell_type": "code",
      "source": [
        "model = genai.GenerativeModel(model_name='gemini-1.0-pro',\n",
        "                                  generation_config=generation_config,\n",
        "                                  safety_settings=safety_settings,)"
      ],
      "metadata": {
        "id": "7yB-LqPTMndK"
      },
      "execution_count": null,
      "outputs": []
    },
    {
      "cell_type": "code",
      "source": [
        "response = model.generate_content(\"Que empresa criou o modelo de IA Gemini?\")\n",
        "response.text"
      ],
      "metadata": {
        "id": "xutt6zgJMtGA"
      },
      "execution_count": null,
      "outputs": []
    },
    {
      "cell_type": "code",
      "source": [
        "\n",
        "prompt = {\n",
        "1 : \"Professor de Segurança da Informação para leigos e Iniciantes\",\n",
        "2 : \"Engenheiro de Software com foco em segurança\",\n",
        "3 : \"Engenheiro de Cibersegurança Sênior\",\n",
        "}"
      ],
      "metadata": {
        "id": "-Q6RXa1PamxO"
      },
      "execution_count": null,
      "outputs": []
    },
    {
      "cell_type": "code",
      "source": [
        "system_instructions = {\n",
        "    1: {\n",
        "        \"persona\": \"Professor de Segurança da Informação\",\n",
        "        \"tone\": \"informative\",\n",
        "        \"style\": \"friendly\"\n",
        "    },\n",
        "    2: {\n",
        "        \"persona\": \"Engenheiro de Software\",\n",
        "        \"tone\": \"technical\",\n",
        "        \"style\": \"professional\"\n",
        "    },\n",
        "    3: {\n",
        "        \"persona\": \"Especialista em Segurança da Informação\",\n",
        "        \"tone\": \"authoritative\",\n",
        "        \"style\": \"formal\"\n",
        "    }\n",
        "}\n",
        "conteudos = {\n",
        " 1 : \"O que é Segurança da Informação?\",\n",
        "\n",
        "2 : \"Técnicas de Prevenção de um ataque cibernético?\",\n",
        "\n",
        "3 :  \"Principais Ameaças Cibernéticas Atuais.\",\n",
        "\n",
        "4 : \"Como Agir Caso Sofra Um Ataque Cibernético?\",\n",
        "\n",
        "5 : \"Como Funciona a Legislação Contra Crimes Cibernético?\",\n",
        "}"
      ],
      "metadata": {
        "id": "jF8tOafP3-oh"
      },
      "execution_count": null,
      "outputs": []
    },
    {
      "cell_type": "code",
      "source": [
        "chat = model.start_chat(history=[])\n",
        "\n",
        "reconhecimento = input(' Olá! Bem Vindo(a) ao S1.🚫.S! Queremos mwuito te auxiliar, então por gentileza nos indique logo abaixo qual a categoria de usuário você se enquadra:\\n 1- Usuários Convencionais em busca de orientações e soluções inteligentes sobre Segurança da Informação.\\n 2- Desenvolvedores e Profissionais de TI, buscando avaliar o nível de segurança de seus códigos.\\n 3- Profissionais de Segurança da Informação e Telecomunicações, buscando soluções avançadas.\\n Digite o número da opção desejada.\\n')\n",
        "\n",
        "if reconhecimento == 1 :\n",
        "'''\n",
        "Para começar, saiba que a área da segurança da informação é uma área muito ampla\n",
        "e demanda a integração de conhecimentos em diversas áreas da computação. Por esse\n",
        "motivo essa área destinada a pessoas iniciantes ou leigas no assunto conta com\n",
        "prompts prontos e direcionados a conteúdos básicos de segurança da informação ge-\n",
        "rados pelo Gemini.\n",
        "Basta selecionar a numeração associada ao conteúdo abaixo que deseja consumir e\n",
        "ele estará disponível imediatamente. Aproveite!\n",
        "\n",
        "1- O que é Segurança da Informação?\n",
        "\n",
        "2- Técnicas de Prevenção de um ataque cibernético?\n",
        "\n",
        "3- Principais Ameaças Cibernéticas Atuais.\n",
        "\n",
        "4- Como Agir Caso Sofra Um Ataque Cibernético?\n",
        "\n",
        "5- Como Funciona a Legislação Contra Crimes Cibernético?\n",
        "\n",
        "'''\n",
        "  prompt = input('Com o que podemos auxiliá-lo(a): ')\n",
        "  if prompt == 1:\n",
        "    response = chat.send_message(conteudo[1])\n",
        "    print(\"resposta:\", response.text,'\\n\\n')\n",
        "  if prompt == 2:\n",
        "    response = chat.send_message(conteudo[2])\n",
        "    print(\"resposta:\", response.text,'\\n\\n')\n",
        "  if prompt == 3:\n",
        "    response = chat.send_message(conteudo[3])\n",
        "    print(\"resposta:\", response.text,'\\n\\n')\n",
        "  if prompt == 4:\n",
        "    response = chat.send_message(conteudo[4])\n",
        "    print(\"resposta:\", response.text,'\\n\\n')\n",
        "  if prompt == 5:\n",
        "    response = chat.send_message(conteudo[5])\n",
        "    print(\"resposta:\", response.text,'\\n\\n')\n",
        "   # Chamar System Instruction\n",
        "  system_instruction = system_instructions[reconhecimento]\n",
        "  while prompt != \"fim\":\n",
        "    response = chat.send_message(prompt, system_instruction=system_instruction)\n",
        "    print(\"Resposta:\", response.text, '\\n\\n')\n",
        "    prompt = input('Com o que podemos auxiliá-lo(a): ')\n",
        "    if prompt == 1:\n",
        "      response = chat.send_message(conteudo[1])\n",
        "      print(\"resposta:\", response.text,'\\n\\n')\n",
        "    if prompt == 2:\n",
        "      response = chat.send_message(conteudo[2])\n",
        "      print(\"resposta:\", response.text,'\\n\\n')\n",
        "    if prompt == 3:\n",
        "      response = chat.send_message(conteudo[3])\n",
        "      print(\"resposta:\", response.text,'\\n\\n')\n",
        "    if prompt == 4:\n",
        "      response = chat.send_message(conteudo[4])\n",
        "      print(\"resposta:\", response.text,'\\n\\n')\n",
        "    if prompt == 5:\n",
        "      response = chat.send_message(conteudo[5])\n",
        "      print(\"resposta:\", response.text,'\\n\\n')"
      ],
      "metadata": {
        "id": "TL7riPlhM2PS"
      },
      "execution_count": null,
      "outputs": []
    },
    {
      "cell_type": "code",
      "source": [
        "elif reconhecimento == 2 :\n",
        "'''\n",
        "Olá DEV </>, bem vindo ao nosso ambiente de integração entre cibersegurança e\n",
        "desenvolvimento, aqui faremos um colab rumo a mitigação de falhas de segurança\n",
        "em sistemas, automação de testes de segurança e tarefas repetitivas relacionadas.\n",
        "A utilização é muito intuitiva, basta disponibilizar o código para análise, atra-\n",
        "vés de texto ou arquivo e utilizar as técnicas de engenharia de prompt estão dis-\n",
        "ponibilizadas no texto abaixo:\n",
        "\n",
        "As técnicas de engenharia de prompt são um conjunto de métodos usados para melhorar\n",
        " a comunicação entre humanos e modelos de linguagem grandes (LLMs) como eu. Ao usar\n",
        "essas técnicas, os usuários podem direcionar os LLMs para realizar tarefas específicas\n",
        "e gerar resultados mais relevantes e precisos.\n",
        "Algumas das principais técnicas de engenharia de prompt incluem:\n",
        "1. Prompting com cadeia de pensamento: Essa técnica envolve dividir uma tarefa complexa\n",
        "em etapas menores e mais gerenciáveis. Cada etapa é então descrita em um prompt separado,\n",
        "o que ajuda o LLM a entender melhor o que precisa ser feito.\n",
        "Exemplo:\n",
        " * Prompt 1: Resumir o artigo \"A inteligência artificial é uma ameaça à humanidade?\"\n",
        " * Prompt 2: Identificar os principais argumentos do artigo.\n",
        " * Prompt 3: Avaliar a força dos argumentos do artigo.\n",
        "2. Prompting da árvore de pensamento (ToT): Essa técnica envolve estruturar o prompt\n",
        "como uma árvore, com o objetivo principal no topo e as subtarefas ramificando-se a partir dele.\n",
        "Isso pode ajudar o LLM a organizar seus pensamentos e seguir um fluxo lógico.\n",
        "Exemplo:\n",
        "Escrever um poema sobre o amor.\n",
        "\n",
        "* Tema: amor\n",
        "* Tópicos:\n",
        "    * Alegria\n",
        "    * Tristeza\n",
        "    * Perda\n",
        "    * Saudade\n",
        "\n",
        "3. Prompting maiêutico: Essa técnica se baseia no método socrático de questionamento para guiar o LLM a chegar à sua própria conclusão. O prompt faz uma série de perguntas ao LLM, o que o ajuda a explorar o tópico e desenvolver seu próprio entendimento.\n",
        "Exemplo:\n",
        " * O que você acha que é amor?\n",
        " * Quais são as diferentes formas de amor?\n",
        " * Qual é a importância do amor em nossas vidas?\n",
        "4. Prompting baseado na complexidade: Essa técnica envolve ajustar o nível de complexidade do prompt de acordo com as capacidades do LLM. Para LLMs mais básicos, os prompts devem ser mais simples e diretos. Para LLMs mais avançados, os prompts podem ser mais complexos e abrangentes.\n",
        "Exemplo:\n",
        " * Prompt para LLM básico: Escrever uma frase sobre o amor.\n",
        " * Prompt para LLM avançado: Escrever um ensaio sobre a história da filosofia do amor.\n",
        "5. Prompting de conhecimento gerado: Essa técnica envolve usar o conhecimento do LLM para gerar prompts mais eficazes. O LLM pode ser usado para identificar palavras-chave, conceitos e relações relevantes para o tópico em questão. Essa informação pode então ser usada para criar prompts mais direcionados e precisos.\n",
        "Exemplo:\n",
        "O usuário deseja escrever um poema sobre a natureza. O LLM pode ser usado para gerar uma lista de palavras-chave relacionadas à natureza, como \"árvores\", \"flores\", \"animais\" e \"montanhas\". Essa lista pode então ser usada para criar um prompt como:\n",
        "Escrever um poema que use as seguintes palavras-chave: árvores, flores, animais e montanhas.\n",
        "Ao usar essas e outras técnicas de engenharia de prompt, os usuários podem se comunicar mais efetivamente com LLMs e obter resultados mais satisfatórios. As técnicas de engenharia de prompt estão em constante evolução à medida que os LLMs se tornam mais sofisticados, e é importante que os usuários se mantenham atualizados sobre as últimas práticas recomendadas.\n",
        "\n",
        "\n",
        "'''\n",
        "  prompt = input(': ')\n",
        "#Chamar System Instruction\n",
        "  system_instruction = system_instructions[reconhecimento]\n",
        "  while prompt != \"fim\":\n",
        "    response = chat.send_message(prompt, system_instruction=system_instruction)\n",
        "    print(\"Resposta:\", response.text, '\\n\\n')\n",
        "    prompt = input('Esperando prompt: ')"
      ],
      "metadata": {
        "id": "wCb39ToxGZt7"
      },
      "execution_count": null,
      "outputs": []
    },
    {
      "cell_type": "code",
      "source": [
        "elif reconhecimento == 3 :\n",
        "  prompt = input('Esperando prompt: ')\n",
        "#Chamar System Instruction\n",
        "  system_instruction = system_instructions[reconhecimento]\n",
        "  while prompt != \"fim\":\n",
        "    response = chat.send_message(prompt, system_instruction=system_instruction)\n",
        "    print(\"Resposta:\", response.text, '\\n\\n')\n",
        "    prompt = input('Esperando prompt: ')\n",
        "\n",
        "Else:\n",
        "  Print(\"** Entrada Invalida! **\")"
      ],
      "metadata": {
        "id": "ZBEgNLdAGoqw"
      },
      "execution_count": null,
      "outputs": []
    },
    {
      "cell_type": "code",
      "source": [
        "Chat.history"
      ],
      "metadata": {
        "id": "zgPzD7yBND20"
      },
      "execution_count": null,
      "outputs": []
    },
    {
      "cell_type": "code",
      "source": [],
      "metadata": {
        "id": "LHudpaCdNN9E"
      },
      "execution_count": null,
      "outputs": []
    }
  ]
}